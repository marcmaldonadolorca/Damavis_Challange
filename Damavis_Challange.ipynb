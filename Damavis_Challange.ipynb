{
 "cells": [
  {
   "cell_type": "code",
   "execution_count": null,
   "metadata": {},
   "outputs": [],
   "source": [
    "def numberOfAvailableDifferentPaths(board, snake, depth):\n",
    "    "
   ]
  },
  {
   "cell_type": "code",
   "execution_count": null,
   "metadata": {},
   "outputs": [],
   "source": [
    "def test_1():\n",
    "    board = [4,3]\n",
    "    snake = [[2, 2], [3, 2], [3, 1], [3, 0], [2, 0], [1, 0], [0, 0]]\n",
    "    depth = 3\n",
    "\n",
    "    assert numberOfAvailableDifferentPaths(board, snake, depth) == 7, \"Should be 7\"\n",
    "    \n",
    "def test_2():\n",
    "    board: [2, 3]\n",
    "    snake: [[0,2], [0,1], [0,0], [1,0], [1,1], [1,2]]\n",
    "    depth: 10\n",
    "        \n",
    "    assert numberOfAvailableDifferentPaths(board, snake, depth) == 1, \"Should be 1\"\n",
    "    \n",
    "def test_3():\n",
    "    board: [2, 3]\n",
    "    snake: [[0,2], [0,1], [0,0], [1,0], [1,1], [1,2]]\n",
    "    depth: 10\n",
    "        \n",
    "    assert numberOfAvailableDifferentPaths(board, snake, depth) == 81, \"Should be 81\"\n",
    "    "
   ]
  },
  {
   "cell_type": "code",
   "execution_count": null,
   "metadata": {},
   "outputs": [],
   "source": [
    "if __name__ == \"__main__\":\n",
    "    \n",
    "    test_1()\n",
    "    test_2()\n",
    "    test_3()\n",
    "    \n",
    "    print(\"Everything passed\")"
   ]
  }
 ],
 "metadata": {
  "kernelspec": {
   "display_name": "Python 3",
   "language": "python",
   "name": "python3"
  },
  "language_info": {
   "codemirror_mode": {
    "name": "ipython",
    "version": 3
   },
   "file_extension": ".py",
   "mimetype": "text/x-python",
   "name": "python",
   "nbconvert_exporter": "python",
   "pygments_lexer": "ipython3",
   "version": "3.8.3"
  }
 },
 "nbformat": 4,
 "nbformat_minor": 4
}
